{
 "cells": [
  {
   "cell_type": "code",
   "execution_count": 1,
   "metadata": {},
   "outputs": [],
   "source": [
    "import cantera as ct\n",
    "import numpy as np\n",
    "import matplotlib.pyplot as plt\n",
    "import datetime as dt\n",
    "from scipy.integrate import solve_ivp\n",
    "import gymnasium as gym\n",
    "import cantera as ct\n",
    "import numpy as np\n",
    "from scipy.integrate import solve_ivp\n",
    "import datetime as dt\n",
    "from stable_baselines3 import DQN\n",
    "# import dummy env\n",
    "from stable_baselines3.common.env_checker import check_env\n",
    "from stable_baselines3.common.env_util import make_vec_env\n",
    "from datetime import datetime\n"
   ]
  },
  {
   "cell_type": "code",
   "execution_count": 2,
   "metadata": {},
   "outputs": [],
   "source": [
    "\n",
    "def cantera_integration(mechanism_file, fuel, phi, temperature, pressure, residence_time, species_to_track, num_points=1000):\n",
    "    gas = ct.Solution(mechanism_file)\n",
    "    oxidizer = {'O2': 1, 'N2': 3.76}\n",
    "    gas.set_equivalence_ratio(phi=phi, fuel=fuel, oxidizer=oxidizer)\n",
    "    gas.TP = temperature, pressure\n",
    "\n",
    "    reactor = ct.ConstPressureReactor(gas)\n",
    "    network = ct.ReactorNet([reactor])\n",
    "\n",
    "    times = np.linspace(0, residence_time, num_points)\n",
    "    temperatures = []\n",
    "    species_profiles = {spec: [] for spec in species_to_track}\n",
    "\n",
    "    start_time = dt.datetime.now()\n",
    "    for time in times:\n",
    "        network.advance(time)\n",
    "        temperatures.append(reactor.T)\n",
    "        for spec in species_to_track:\n",
    "            species_profiles[spec].append(reactor.thermo[spec].X)\n",
    "    \n",
    "    print(f\"Cantera integration simulation took {(dt.datetime.now() - start_time).microseconds} microseconds\")\n",
    "\n",
    "    fig, (ax1, ax2) = plt.subplots(2, 1, figsize=(8, 12))\n",
    "    ax1.plot(times, temperatures)\n",
    "    ax1.set_xlabel('Time (s)')\n",
    "    ax1.set_ylabel('Temperature (K)')\n",
    "    ax1.set_title('Temperature profile')\n",
    "\n",
    "    for spec in species_to_track:\n",
    "        ax2.plot(times, species_profiles[spec], label=spec)\n",
    "    ax2.set_xlabel('Time (s)')\n",
    "    ax2.set_ylabel('Mole fraction')\n",
    "    ax2.set_title('Species profiles')\n",
    "    ax2.legend()\n",
    "    plt.tight_layout()\n",
    "    plt.show()\n",
    "    \n",
    "    return times, temperatures, species_profiles\n",
    "\n",
    "def simulate_combustion(fuel, mechanism_file, species_to_track, integrator, T_initial, P_initial, equivalence_ratio, t_end, num_points=100, rtol=1e-6, atol=1e-15):\n",
    "    gas = ct.Solution(mechanism_file)\n",
    "    print(f'Number of species: {gas.n_species}')\n",
    "    print(f'Number of reactions: {gas.n_reactions}')\n",
    "    \n",
    "    gas.set_equivalence_ratio(equivalence_ratio, fuel, {'O2': 1, 'N2': 3.76})\n",
    "    gas.TP = T_initial, P_initial\n",
    "\n",
    "    y0 = np.hstack((gas.Y, gas.T))\n",
    "    print(y0)\n",
    "\n",
    "    def derivatives(t, y, gas):\n",
    "        gas.Y = y[:-1]\n",
    "        gas.TP = y[-1], gas.P\n",
    "        dydt = np.zeros_like(y)\n",
    "        r = gas.net_production_rates\n",
    "        rho = gas.density\n",
    "        dydt[:gas.n_species] = r * gas.molecular_weights / rho\n",
    "        dydt[-1] = - np.dot(gas.partial_molar_enthalpies, r) / (rho * gas.cp_mass)\n",
    "        return dydt\n",
    "\n",
    "    \n",
    "    times = np.linspace(0, t_end, num_points)\n",
    "    print(f\"Integrating using {integrator}\")\n",
    "    sol_start_time = dt.datetime.now()\n",
    "    solution = solve_ivp(derivatives, [0, t_end], y0, method=integrator, args=(gas,), dense_output=True, rtol=rtol, atol=atol)\n",
    "    print(f\"Integration took {(dt.datetime.now() - sol_start_time).seconds} seconds\")    \n",
    "    temperatures = []\n",
    "    species_profiles = {spec: [] for spec in species_to_track}\n",
    "    \n",
    "    start_time = dt.datetime.now()\n",
    "    print(f\"Extracting solution at {num_points} points\")\n",
    "    for time in times:\n",
    "        y = solution.sol(time)\n",
    "        gas.Y = y[:-1]\n",
    "        gas.TP = y[-1], gas.P\n",
    "        temperatures.append(gas.T)\n",
    "        for spec in species_to_track:\n",
    "            species_profiles[spec].append(gas[spec].X[0])\n",
    "    print(f\"Extraction took {(dt.datetime.now() - start_time).seconds} seconds\")\n",
    "    \n",
    "    print(f\"Combustion simulation took {(dt.datetime.now() - start_time).seconds} seconds\")\n",
    "    \n",
    "    fig, (ax1, ax2) = plt.subplots(2, 1, figsize=(8, 12))\n",
    "    ax1.plot(times, temperatures)\n",
    "    ax1.set_xlabel('Time (s)')\n",
    "    ax1.set_ylabel('Temperature (K)')\n",
    "    ax1.set_title('Temperature Profile Using ' + integrator)\n",
    "    \n",
    "    for spec in species_to_track:\n",
    "        ax2.plot(times, species_profiles[spec], label=spec)\n",
    "    ax2.set_xlabel('Time (s)')\n",
    "    ax2.set_ylabel('Mass Fraction')\n",
    "    ax2.set_title('Species Mass Fraction Profiles Using ' + integrator)\n",
    "    ax2.legend()\n",
    "    \n",
    "    plt.tight_layout()\n",
    "    plt.show()\n",
    "    \n",
    "    return temperatures, species_profiles\n",
    "\n"
   ]
  },
  {
   "cell_type": "code",
   "execution_count": null,
   "metadata": {},
   "outputs": [],
   "source": [
    "c02 = env.species_profiles['CO2']\n",
    "temp = env.temperatures\n",
    "print(len(c02))\n",
    "print(len(temp))\n",
    "\n",
    "species = [env.species_profiles[speci] for speci in env.species_to_track]\n",
    "species = np.array(species)\n",
    "print(species.shape)"
   ]
  },
  {
   "cell_type": "code",
   "execution_count": null,
   "metadata": {},
   "outputs": [],
   "source": [
    "all_species = np.hstack((species, temp))\n",
    "print(all_species.shape)"
   ]
  },
  {
   "cell_type": "code",
   "execution_count": null,
   "metadata": {},
   "outputs": [],
   "source": [
    "env.reference_solution.shape"
   ]
  },
  {
   "cell_type": "code",
   "execution_count": null,
   "metadata": {},
   "outputs": [],
   "source": [
    "print(ct.__version__)"
   ]
  },
  {
   "cell_type": "code",
   "execution_count": 4,
   "metadata": {},
   "outputs": [
    {
     "name": "stdout",
     "output_type": "stream",
     "text": [
      "Cantera integration simulation took 128315 microseconds\n"
     ]
    },
    {
     "data": {
      "image/png": "[encoded data removed]",
      "text/plain": [
       "<Figure size 800x1200 with 2 Axes>"
      ]
     },
     "metadata": {},
     "output_type": "display_data"
    }
   ],
   "source": [
    "# Parameters\n",
    "mechanism_file = '/Users/elotech/Documents/CODES/SCI-ML/integrator_rl/mechanism_files/ch4_53species.yaml'\n",
    "fuel = 'CH4'\n",
    "phi = equivalence_ratio = 1.0\n",
    "temperature = T_initial = 900  # K\n",
    "pressure = P_initial = ct.one_atm  # atm\n",
    "residence_time = 10  # s\n",
    "species_to_track = ['CH4', 'CO', 'CO2', 'H2O', 'O2']\n",
    "num_points = 1000\n",
    "\n",
    "# Run Cantera Integration\n",
    "times, temperatures, species_profiles = cantera_integration(mechanism_file, fuel, phi, temperature, pressure, residence_time, species_to_track, num_points)\n"
   ]
  },
  {
   "cell_type": "code",
   "execution_count": null,
   "metadata": {},
   "outputs": [],
   "source": [
    "\n",
    "# Run Combustion Simulation with Integrator\n",
    "integrator = 'BDF'\n",
    "rtol = 0.0001\n",
    "atol = 1e-8\n",
    "num_points = 1000\n",
    "t_end = 1\n",
    "\n",
    "temperatures, species_profiles = simulate_combustion(fuel, mechanism_file, species_to_track, integrator,\n",
    "                                                     T_initial, P_initial, equivalence_ratio, t_end, num_points=num_points, rtol=rtol, atol=atol)\n"
   ]
  },
  {
   "cell_type": "code",
   "execution_count": null,
   "metadata": {},
   "outputs": [],
   "source": [
    "import cantera as ct\n",
    "import numpy as np\n",
    "from scipy.integrate import solve_ivp\n",
    "import datetime as dt\n",
    "\n",
    "def solve_with_scipy(gas, method, time, dt_cfd, rtol=1e-6, atol=1e-15):\n",
    "    y0 = np.hstack((gas.Y, gas.T))\n",
    "    \n",
    "    def derivatives(t, y):\n",
    "        gas.Y = y[:-1]\n",
    "        gas.TP = y[-1], gas.P\n",
    "        dydt = np.zeros_like(y)\n",
    "        r = gas.net_production_rates\n",
    "        rho = gas.density\n",
    "        dydt[:gas.n_species] = r * gas.molecular_weights / rho\n",
    "        dydt[-1] = np.dot(gas.partial_molar_enthalpies, r)\n",
    "        return dydt\n",
    "    \n",
    "    solution = solve_ivp(derivatives, [time, time + dt_cfd], y0, method=method, rtol=rtol, atol=atol)\n",
    "    return solution.y[:-1, -1], solution.y[-1, -1], gas.P\n",
    "\n",
    "mechanism_file = 'mechanism_files/ethane_mech.yaml'\n",
    "fuel = 'C2H6'\n",
    "phi = equivalence_ratio = 1.0\n",
    "temperature = T_initial = 900  # K\n",
    "pressure = P_initial = ct.one_atm  # atm\n",
    "t_end = 2\n",
    "t_start = 0\n",
    "dt_cfd = 0.002\n",
    "num_points  = int(t_end / dt_cfd)\n",
    "print(f\"Number of points: {num_points}\")\n",
    "method = 'RK45'\n",
    "rtols = [1e-4, 1e-6, 1e-9]\n",
    "atol = 1e-15\n",
    "\n",
    "gas = ct.Solution(mechanism_file)\n",
    "gas.set_equivalence_ratio(equivalence_ratio, fuel, {'O2': 1, 'N2': 3.76})\n",
    "gas.TP = T_initial, P_initial\n",
    "\n",
    "species_to_track = ['C2H6', 'O2', 'CO2', 'H2O']  # Example species to track, modify as needed\n",
    "\n",
    "start_time = dt.datetime.now()\n",
    "temperatures = []\n",
    "species_profiles = {spec: [] for spec in species_to_track}\n",
    "times = np.linspace(t_start, t_end, num_points)\n",
    "\n",
    "for time in times:\n",
    "    \n",
    "    rtol = 1e-4 #np.interp(time, [t_start, t_end], [rtols[0], rtols[-1]])\n",
    "    #print(f\"Time: {time}, RTOL: {rtol}\")\n",
    "    \n",
    "    try:\n",
    "        y, T, P = solve_with_scipy(gas, method, time, dt_cfd, rtol=rtol, atol=atol)\n",
    "    except ct.CanteraError as e:\n",
    "        print(f\"Warning: CanteraError at time {time}: {e}\")\n",
    "        break  # Or handle the error in a different way\n",
    "\n",
    "    gas.Y = y\n",
    "    gas.TP = T, P\n",
    "\n",
    "    # Preventing unphysical temperatures\n",
    "    if gas.T < 300:  # Example threshold\n",
    "        gas.TP = 300, gas.P\n",
    "\n",
    "    temperatures.append(gas.T)\n",
    "    for spec in species_to_track:\n",
    "        species_profiles[spec].append(gas[spec].X[0])\n",
    "\n",
    "end_time = dt.datetime.now()\n",
    "print(f\"Simulation completed in {end_time - start_time}\")\n",
    "\n",
    "# The results are stored in temperatures and species_profiles\n",
    "fig, (ax1, ax2) = plt.subplots(2, 1, figsize=(8, 12))\n",
    "ax1.plot(times, temperatures)\n",
    "ax1.set_xlabel('Time (s)')\n",
    "ax1.set_ylabel('Temperature (K)')\n",
    "ax1.set_title('Temperature Profile Using ' + integrator)\n",
    "\n",
    "for spec in species_to_track:\n",
    "    ax2.plot(times, species_profiles[spec], label=spec)\n",
    "ax2.set_xlabel('Time (s)')\n",
    "ax2.set_ylabel('Mass Fraction')\n",
    "ax2.set_title('Species Mass Fraction Profiles Using ' + integrator)\n",
    "ax2.legend()\n",
    "\n",
    "plt.tight_layout()\n",
    "plt.show()"
   ]
  },
  {
   "cell_type": "code",
   "execution_count": null,
   "metadata": {},
   "outputs": [],
   "source": [
    "from integrator_rl import CanteraEnvII\n",
    "from utils import simulation_test, compare_actions"
   ]
  },
  {
   "cell_type": "code",
   "execution_count": null,
   "metadata": {},
   "outputs": [],
   "source": [
    "# Create and wrap the environment\n",
    "mechanism_file = '/Users/elotech/Documents/CODES/SCI-ML/integrator_rl/mechanism_files/ch4_53species.yaml'\n",
    "fuel = 'CH4'\n",
    "phi = 1.0\n",
    "T_initial = 900\n",
    "P_initial = ct.one_atm\n",
    "species_to_track = ['CH4', 'O2', 'CO2', 'H2O']\n",
    "residence_time = 10\n",
    "num_points = 200\n",
    "\n",
    "env = CanteraEnvII(mechanism_file, fuel, phi, T_initial, P_initial, species_to_track, residence_time, num_points, debug=True)"
   ]
  },
  {
   "cell_type": "code",
   "execution_count": null,
   "metadata": {},
   "outputs": [],
   "source": [
    "env.reference_times.shape"
   ]
  },
  {
   "cell_type": "code",
   "execution_count": null,
   "metadata": {},
   "outputs": [],
   "source": [
    "action = 3\n",
    "integrator = env.integrators[action // len(env.tolerances)]\n",
    "rtol = env.tolerances[action % len(env.tolerances)]\n",
    "print(f\"Action: {action}, Integrator: {integrator}, RTOL: {rtol}\")\n",
    "env.reset()\n",
    "\n",
    "obs, reward, done, truncated, info = env.step(action)\n",
    "_ = simulation_test(env, action, render=True)"
   ]
  },
  {
   "cell_type": "code",
   "execution_count": null,
   "metadata": {},
   "outputs": [],
   "source": [
    "# env_vec = make_vec_env(lambda: env, n_envs=1)\n",
    "\n",
    "# best_model_path = \"/Users/elotech/Documents/CODES/SCI-ML/integrator_rl/logs/best_model.zip\"\n",
    "\n",
    "# # load the best model\n",
    "# model =PPO(\"MlpPolicy\", env_vec, verbose=1)\n",
    "# model = DQN.load(best_model_path, env=env_vec)"
   ]
  },
  {
   "cell_type": "code",
   "execution_count": null,
   "metadata": {},
   "outputs": [],
   "source": [
    "actions = [0, 1, 2, 3]\n",
    "compare_actions(env, actions, model=model)"
   ]
  },
  {
   "cell_type": "code",
   "execution_count": null,
   "metadata": {},
   "outputs": [],
   "source": [
    "import pickle\n",
    "import numpy as np"
   ]
  },
  {
   "cell_type": "code",
   "execution_count": null,
   "metadata": {},
   "outputs": [],
   "source": [
    "# load the results\n",
    "result_path = \"/Users/elotech/Documents/CODES/SCI-ML/integrator_rl/results/20240523_103040/results.pkl\"\n",
    "with open(result_path, 'rb') as f:\n",
    "    results = pickle.load(f)"
   ]
  },
  {
   "cell_type": "code",
   "execution_count": null,
   "metadata": {},
   "outputs": [],
   "source": [
    "results"
   ]
  },
  {
   "cell_type": "code",
   "execution_count": null,
   "metadata": {},
   "outputs": [],
   "source": [
    "# get all the actions \n",
    "actions = [result[\"action\"] for result in results]\n",
    "# get all the time taken\n",
    "time_taken = [result[\"time_taken\"] for result in results]\n",
    "total_time = [sum(np.exp(-np.array(time))) for time in time_taken]\n",
    "\n",
    "# # take the log of the time taken\n",
    "# time_taken_log = [time  or times in time_taken]\n",
    "# get all the accuracy\n",
    "accuracy = [result[\"accuracy\"] for result in results]\n",
    "\n",
    "# get all the time indices\n",
    "time_indices = [result[\"time_indices\"] for result in results]\n",
    "# get all the temperature\n",
    "temperature = [result[\"temperature\"] for result in results]\n",
    "\n",
    "full_error = [result[\"full_error\"] for result in results]\n",
    "\n",
    "total_time_taken = [result[\"total_time\"] for result in results]"
   ]
  },
  {
   "cell_type": "code",
   "execution_count": null,
   "metadata": {},
   "outputs": [],
   "source": [
    "full_error"
   ]
  },
  {
   "cell_type": "code",
   "execution_count": null,
   "metadata": {},
   "outputs": [],
   "source": [
    "total_time_taken"
   ]
  },
  {
   "cell_type": "code",
   "execution_count": null,
   "metadata": {},
   "outputs": [],
   "source": [
    "# plot the results\n",
    "plt.bar(actions, total_time)"
   ]
  },
  {
   "cell_type": "code",
   "execution_count": null,
   "metadata": {},
   "outputs": [],
   "source": [
    "# plot the results using symbols rather than lines for better visualization\n",
    "fig, ax = plt.subplots(1, 3, figsize=(30, 8), dpi=500)\n",
    "symbols = ['o', 's', 'D', '^', 'v', 'p', 'P']\n",
    "for i in [1,2,3,4]:\n",
    "    ax[0].plot(time_indices[i], time_taken[i], label=f\"Time taken for {actions[i]}\", marker=symbols[i], markersize=5)\n",
    "    ax[1].plot(time_indices[i], accuracy[i], label=f\"Accuracy for {actions[i]}\", marker=symbols[i], markersize=5)\n",
    "    ax[2].plot(time_indices[i], temperature[i], label=f\"Temperature for {actions[i]}\", marker=symbols[i], markersize=5)   \n",
    "ax[2].plot(np.linspace(0, env.simulation_time, env.num_points)*num_points/10, env.reference_solution[:, -1], label=\"Reference\", linestyle='--')\n",
    "ax[0].set_xlabel(\"Time index\")\n",
    "ax[0].set_ylabel(\"log Time taken (s)\")\n",
    "ax[0].set_title(\"Log of Time taken for different actions\")\n",
    "ax[0].legend()\n",
    "\n",
    "ax[1].set_xlabel(\"Time index\")\n",
    "ax[1].set_ylabel(\"Accuracy\")\n",
    "ax[1].set_title(\"Accuracy for different actions\")\n",
    "ax[1].legend()\n",
    "\n",
    "ax[2].set_xlabel(\"Time index\")\n",
    "ax[2].set_ylabel(\"Temperature (K)\")\n",
    "ax[2].set_title(\"Temperature for different actions\")\n",
    "ax[2].legend()\n",
    "\n",
    "\n",
    "plt.tight_layout()\n",
    "plt.savefig(\"updated_results_dqn_1e468bdf.png\")\n",
    "plt.show()"
   ]
  },
  {
   "cell_type": "code",
   "execution_count": null,
   "metadata": {},
   "outputs": [],
   "source": [
    "action = 0\n",
    "integrator = env.integrators[action // len(env.tolerances)]\n",
    "rtol = env.tolerances[action % len(env.tolerances)]\n",
    "print(f\"Action: {action}, Integrator: {integrator}, RTOL: {rtol}\")\n",
    "env.reset()\n",
    "\n",
    "obs, reward, done, truncated, info = env.step(action)\n",
    "print(f\"Reward: {reward}\")"
   ]
  },
  {
   "cell_type": "code",
   "execution_count": null,
   "metadata": {},
   "outputs": [],
   "source": []
  },
  {
   "cell_type": "code",
   "execution_count": null,
   "metadata": {},
   "outputs": [],
   "source": [
    "from stable_baselines3.common.callbacks import CheckpointCallback, EvalCallback, CallbackList, BaseCallback"
   ]
  },
  {
   "cell_type": "code",
   "execution_count": null,
   "metadata": {},
   "outputs": [],
   "source": []
  },
  {
   "cell_type": "code",
   "execution_count": null,
   "metadata": {},
   "outputs": [],
   "source": [
    "import numpy as np\n",
    "import matplotlib.pyplot as plt\n",
    "\n",
    "def reward_function(time, k=1, tau=1):\n",
    "    # Use np.clip to limit the range of the exponent to avoid overflow\n",
    "    exponent = np.clip(k * (time - tau), -700, 700)\n",
    "    return 2 * (1 / (1 + np.exp(exponent))) - 1\n",
    "\n",
    "# Example usage:\n",
    "times = [0.0001, 0.001, 0.01, 0.1, 1, 10, 100]\n",
    "rewards = [reward_function(t, k=1, tau=1) for t in times]\n",
    "print(rewards)\n",
    "\n",
    "# Visualization\n",
    "times = np.linspace(0, 10, 1000)  # Adjust the range for better visualization\n",
    "rewards = [reward_function(t, k=1, tau=1) for t in times]\n",
    "\n",
    "plt.plot(times, rewards)\n",
    "plt.xlabel('Time (seconds)')\n",
    "plt.ylabel('Reward')\n",
    "plt.title('Reward Function')\n",
    "plt.grid(True)\n",
    "plt.show()\n"
   ]
  },
  {
   "cell_type": "code",
   "execution_count": null,
   "metadata": {},
   "outputs": [],
   "source": [
    "times = [0.0001, 0.001, 0.01, 0.1, 1, 10, 100]\n",
    "logtime = np.log10(times)\n",
    "print(logtime)"
   ]
  },
  {
   "cell_type": "code",
   "execution_count": null,
   "metadata": {},
   "outputs": [],
   "source": [
    "import math\n",
    "\n",
    "def reward_function(time, k=5):\n",
    "    return math.exp(-k * time)\n",
    "k=500\n",
    "# Example usage:\n",
    "times = [0.0002, 0.001, 0.001, 0.01, 0.1, 1]\n",
    "rewards = [reward_function(t, k=k) for t in times]\n",
    "print(rewards)\n"
   ]
  },
  {
   "cell_type": "code",
   "execution_count": null,
   "metadata": {},
   "outputs": [],
   "source": [
    "action = 2\n",
    "integrator = env.integrators[action // len(env.tolerances)]\n",
    "rtol = env.tolerances[action % len(env.tolerances)]\n",
    "print(f\"Action: {action}, Integrator: {integrator}, RTOL: {rtol}\")\n",
    "env.reset()\n",
    "\n",
    "obs, reward, done, truncated, info = env.step(action)\n",
    "_ = simulation_test(env, action, render=True)"
   ]
  },
  {
   "cell_type": "code",
   "execution_count": null,
   "metadata": {},
   "outputs": [],
   "source": [
    "env.y[-1]"
   ]
  },
  {
   "cell_type": "code",
   "execution_count": null,
   "metadata": {},
   "outputs": [],
   "source": [
    "ct.one_atm"
   ]
  },
  {
   "cell_type": "code",
   "execution_count": null,
   "metadata": {},
   "outputs": [],
   "source": [
    "env.gas.HPY"
   ]
  },
  {
   "cell_type": "code",
   "execution_count": null,
   "metadata": {},
   "outputs": [],
   "source": [
    "action = 3\n",
    "integrator = env.integrators[action // len(env.tolerances)]\n",
    "rtol = env.tolerances[action % len(env.tolerances)]\n",
    "print(f\"Action: {action}, Integrator: {integrator}, RTOL: {rtol}\")\n",
    "\n",
    "obs, reward, done, truncated, info = env.step(action)\n",
    "_ = simulation_test(env, action, render=True)"
   ]
  },
  {
   "cell_type": "code",
   "execution_count": null,
   "metadata": {},
   "outputs": [],
   "source": [
    "env.render(plot_reference=True)"
   ]
  },
  {
   "cell_type": "code",
   "execution_count": null,
   "metadata": {},
   "outputs": [],
   "source": [
    "for _ in range(1000):\n",
    "    action = env.action_space.sample()\n",
    "    obs, reward, done, truncated, info = env.step(action)\n",
    "    if done:\n",
    "        break"
   ]
  },
  {
   "cell_type": "code",
   "execution_count": null,
   "metadata": {},
   "outputs": [],
   "source": [
    "env.render(plot_reference=True)"
   ]
  },
  {
   "cell_type": "code",
   "execution_count": null,
   "metadata": {},
   "outputs": [],
   "source": [
    "class CanteraEnvII(gym.Env):\n",
    "    def __init__(self, mechanism_file, fuel, phi, T_initial, P_initial, species_to_track, residence_time, num_points):\n",
    "        super(CanteraEnvII, self).__init__()\n",
    "        \n",
    "        self.mechanism_file = mechanism_file\n",
    "        self.fuel = fuel\n",
    "        self.phi = phi\n",
    "        self.T_initial = T_initial\n",
    "        self.P_initial = P_initial\n",
    "        self.species_to_track = species_to_track\n",
    "        self.residence_time = residence_time\n",
    "        self.num_points = num_points\n",
    "        \n",
    "        self.integrators = ['BDF', 'LSODA']\n",
    "        self.tolerances = [1e-4, 1e-6, 1e-9]\n",
    "        \n",
    "        self.action_space = gym.spaces.Discrete(len(self.integrators) * len(self.tolerances))\n",
    "        self.observation_space = gym.spaces.Box(low=0, high=np.inf, shape=(len(species_to_track) + 1,), dtype=np.float64)\n",
    "        \n",
    "        self.gas = ct.Solution(mechanism_file)\n",
    "        self.reference_solution = self.calculate_reference_solution()\n",
    "        self.reset()\n",
    "\n",
    "    def step(self, action):\n",
    "        integrator = self.integrators[action // len(self.tolerances)]\n",
    "        rtol = self.tolerances[action % len(self.tolerances)]\n",
    "        \n",
    "        # Perform the simulation\n",
    "        try:\n",
    "            y, h, P = self.solve_with_scipy(self.gas, integrator, 0, self.dt_cfd, rtol, self.atol)\n",
    "            self.gas.Y = y\n",
    "            self.gas.HP = h, P\n",
    "        except ct.CanteraError:\n",
    "            reward = -100\n",
    "            done = True\n",
    "            return self._get_state(), reward, done, {}\n",
    "        \n",
    "        # Calculate reward based on time and accuracy\n",
    "        current_state = self._get_state()\n",
    "        reference_state = self.reference_solution[self.time_index]\n",
    "        accuracy = -np.linalg.norm(current_state - reference_state)\n",
    "        \n",
    "        reward = -self.time_taken + accuracy\n",
    "        self.time_index += 1\n",
    "        done = self.time_index >= self.num_points\n",
    "        truncated = False\n",
    "        \n",
    "        return current_state, reward, done, truncated, {\"integrator\": integrator, \"rtol\": rtol}\n",
    "    \n",
    "    def reset(self, seed=None):\n",
    "        self.gas.set_equivalence_ratio(self.phi, self.fuel, {'O2': 1, 'N2': 3.76})\n",
    "        self.gas.TP = self.T_initial, self.P_initial\n",
    "        self.time_index = 0\n",
    "        self.dt_cfd = self.residence_time / self.num_points\n",
    "        self.t_end = self.residence_time\n",
    "        self.atol = 1e-15\n",
    "        return self._get_state(), {}\n",
    "    \n",
    "    def _get_state(self):\n",
    "        state = np.hstack([self.gas[spec].X[0] for spec in self.species_to_track] + [self.gas.T])\n",
    "        return state\n",
    "    \n",
    "    def solve_with_scipy(self, gas, method, time, dt_cfd, rtol=1e-6, atol=1e-15):\n",
    "        y0 = np.hstack((gas.Y, gas.enthalpy_mass))\n",
    "        \n",
    "        def derivatives(t, y):\n",
    "            gas.Y = y[:-1]\n",
    "            gas.HP = y[-1], gas.P\n",
    "            dydt = np.zeros_like(y)\n",
    "            r = gas.net_production_rates\n",
    "            rho = gas.density\n",
    "            dydt[:gas.n_species] = r * gas.molecular_weights / rho\n",
    "            dydt[-1] = np.dot(gas.partial_molar_enthalpies, r)\n",
    "            return dydt\n",
    "        \n",
    "        start_time = dt.datetime.now()\n",
    "        solution = solve_ivp(derivatives, [time, time + dt_cfd], y0, method=method, rtol=rtol, atol=atol)\n",
    "        end_time = dt.datetime.now()\n",
    "        \n",
    "        self.time_taken = (end_time - start_time).total_seconds()\n",
    "        \n",
    "        return solution.y[:-1, -1], solution.y[-1, -1], gas.P\n",
    "\n",
    "    def calculate_reference_solution(self):\n",
    "        gas = ct.Solution(self.mechanism_file)\n",
    "        oxidizer = {'O2': 1, 'N2': 3.76}\n",
    "        gas.set_equivalence_ratio(self.phi, self.fuel, oxidizer)\n",
    "        gas.TP = self.T_initial, self.P_initial\n",
    "\n",
    "        reactor = ct.IdealGasReactor(gas)\n",
    "        network = ct.ReactorNet([reactor])\n",
    "\n",
    "        times = np.linspace(0, self.residence_time, self.num_points)\n",
    "        reference_solution = []\n",
    "\n",
    "        for time in times:\n",
    "            network.advance(time)\n",
    "            state = np.hstack([reactor.thermo[spec].X[0] for spec in self.species_to_track] + [reactor.T])\n",
    "            reference_solution.append(state)\n",
    "        \n",
    "        return np.array(reference_solution)\n",
    "    \n",
    "    def render(self):\n",
    "        # plot the temperature and species profiles in two plots in the same figure\n",
    "        fig, (ax1, ax2) = plt.subplots(2, 1, figsize=(8, 12))\n",
    "        ax1.plot(times, temperatures)\n",
    "        ax1.set_xlabel('Time (s)')\n",
    "        ax1.set_ylabel('Temperature (K)')\n",
    "\n",
    "# Create and wrap the environment\n",
    "mechanism_file = 'mechanism_files/ethane_mech.yaml'\n",
    "fuel = 'C2H6'\n",
    "phi = 1.0\n",
    "T_initial = 1800\n",
    "P_initial = ct.one_atm\n",
    "species_to_track = ['C2H6', 'O2', 'CO2', 'H2O']\n",
    "residence_time = 0.0001\n",
    "num_points = 1000\n",
    "\n",
    "env = CanteraEnvII(mechanism_file, fuel, phi, T_initial, P_initial, species_to_track, residence_time, num_points)\n",
    "\n",
    "\n"
   ]
  },
  {
   "cell_type": "code",
   "execution_count": null,
   "metadata": {},
   "outputs": [],
   "source": [
    "env.reset()"
   ]
  },
  {
   "cell_type": "code",
   "execution_count": null,
   "metadata": {},
   "outputs": [],
   "source": [
    "env.reference_solution.shape"
   ]
  },
  {
   "cell_type": "code",
   "execution_count": null,
   "metadata": {},
   "outputs": [],
   "source": [
    "action = env.action_space.sample()\n",
    "integrator = env.integrators[action // len(env.tolerances)]\n",
    "rtol = env.tolerances[action % len(env.tolerances)]\n",
    "print(f\"Action: {action}, Integrator: {integrator}, RTOL: {rtol}\")\n"
   ]
  },
  {
   "cell_type": "code",
   "execution_count": null,
   "metadata": {},
   "outputs": [],
   "source": [
    "result = env.step(action)"
   ]
  },
  {
   "cell_type": "code",
   "execution_count": null,
   "metadata": {},
   "outputs": [],
   "source": [
    "result"
   ]
  },
  {
   "cell_type": "code",
   "execution_count": null,
   "metadata": {},
   "outputs": [],
   "source": [
    "\n",
    "env_vec = make_vec_env(lambda: env, n_envs=1)\n",
    "# Define and train the RL agent\n",
    "model = DQN('MlpPolicy', env_vec, verbose=1)\n",
    "model.learn(total_timesteps=1000, progress_bar=True)\n"
   ]
  },
  {
   "cell_type": "code",
   "execution_count": null,
   "metadata": {},
   "outputs": [],
   "source": [
    "\n",
    "\n",
    "# Test the trained agent\n",
    "obs = env.reset()\n",
    "for _ in range(100):\n",
    "    action, _states = \n",
    "    obs, rewards, dones, info = env.step(action)\n",
    "    env.render()"
   ]
  }
 ],
 "metadata": {
  "kernelspec": {
   "display_name": "mlEnv",
   "language": "python",
   "name": "python3"
  },
  "language_info": {
   "codemirror_mode": {
    "name": "ipython",
    "version": 3
   },
   "file_extension": ".py",
   "mimetype": "text/x-python",
   "name": "python",
   "nbconvert_exporter": "python",
   "pygments_lexer": "ipython3",
   "version": "3.11.7"
  }
 },
 "nbformat": 4,
 "nbformat_minor": 2
}
